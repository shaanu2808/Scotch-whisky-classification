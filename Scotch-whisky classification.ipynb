{
 "cells": [
  {
   "cell_type": "code",
   "execution_count": 5,
   "id": "c210170d",
   "metadata": {},
   "outputs": [
    {
     "data": {
      "text/html": [
       "        <script type=\"text/javascript\">\n",
       "        window.PlotlyConfig = {MathJaxConfig: 'local'};\n",
       "        if (window.MathJax) {MathJax.Hub.Config({SVG: {font: \"STIX-Web\"}});}\n",
       "        if (typeof require !== 'undefined') {\n",
       "        require.undef(\"plotly\");\n",
       "        requirejs.config({\n",
       "            paths: {\n",
       "                'plotly': ['https://cdn.plot.ly/plotly-2.4.2.min']\n",
       "            }\n",
       "        });\n",
       "        require(['plotly'], function(Plotly) {\n",
       "            window._Plotly = Plotly;\n",
       "        });\n",
       "        }\n",
       "        </script>\n",
       "        "
      ]
     },
     "metadata": {},
     "output_type": "display_data"
    }
   ],
   "source": [
    "import numpy as np # linear algebra\n",
    "import pandas as pd # data processing\n",
    "import re\n",
    "import seaborn as sns\n",
    "import matplotlib.pyplot as plt\n",
    "import matplotlib.patches as patches\n",
    "from IPython.display import HTML\n",
    "import plotly as py\n",
    "import warnings\n",
    "\n",
    "warnings.filterwarnings(\"ignore\")\n",
    "py.offline.init_notebook_mode(connected = True)"
   ]
  },
  {
   "cell_type": "code",
   "execution_count": 7,
   "id": "2e45d39c",
   "metadata": {},
   "outputs": [],
   "source": [
    "df=pd.read_csv('C:\\\\Users\\\\shaan\\\\OneDrive\\\\Desktop\\\\Scotch-whisky\\\\scotch_review.csv')"
   ]
  },
  {
   "cell_type": "code",
   "execution_count": 8,
   "id": "e30fc997",
   "metadata": {},
   "outputs": [
    {
     "data": {
      "text/html": [
       "<div>\n",
       "<style scoped>\n",
       "    .dataframe tbody tr th:only-of-type {\n",
       "        vertical-align: middle;\n",
       "    }\n",
       "\n",
       "    .dataframe tbody tr th {\n",
       "        vertical-align: top;\n",
       "    }\n",
       "\n",
       "    .dataframe thead th {\n",
       "        text-align: right;\n",
       "    }\n",
       "</style>\n",
       "<table border=\"1\" class=\"dataframe\">\n",
       "  <thead>\n",
       "    <tr style=\"text-align: right;\">\n",
       "      <th></th>\n",
       "      <th>Unnamed: 0</th>\n",
       "      <th>name</th>\n",
       "      <th>category</th>\n",
       "      <th>review.point</th>\n",
       "      <th>price</th>\n",
       "      <th>currency</th>\n",
       "      <th>description</th>\n",
       "    </tr>\n",
       "  </thead>\n",
       "  <tbody>\n",
       "    <tr>\n",
       "      <th>0</th>\n",
       "      <td>1</td>\n",
       "      <td>Johnnie Walker Blue Label, 40%</td>\n",
       "      <td>Blended Scotch Whisky</td>\n",
       "      <td>97</td>\n",
       "      <td>225</td>\n",
       "      <td>$</td>\n",
       "      <td>Magnificently powerful and intense. Caramels, ...</td>\n",
       "    </tr>\n",
       "    <tr>\n",
       "      <th>1</th>\n",
       "      <td>2</td>\n",
       "      <td>Black Bowmore, 1964 vintage, 42 year old, 40.5%</td>\n",
       "      <td>Single Malt Scotch</td>\n",
       "      <td>97</td>\n",
       "      <td>4500.00</td>\n",
       "      <td>$</td>\n",
       "      <td>What impresses me most is how this whisky evol...</td>\n",
       "    </tr>\n",
       "    <tr>\n",
       "      <th>2</th>\n",
       "      <td>3</td>\n",
       "      <td>Bowmore 46 year old (distilled 1964), 42.9%</td>\n",
       "      <td>Single Malt Scotch</td>\n",
       "      <td>97</td>\n",
       "      <td>13500.00</td>\n",
       "      <td>$</td>\n",
       "      <td>There have been some legendary Bowmores from t...</td>\n",
       "    </tr>\n",
       "    <tr>\n",
       "      <th>3</th>\n",
       "      <td>4</td>\n",
       "      <td>Compass Box The General, 53.4%</td>\n",
       "      <td>Blended Malt Scotch Whisky</td>\n",
       "      <td>96</td>\n",
       "      <td>325</td>\n",
       "      <td>$</td>\n",
       "      <td>With a name inspired by a 1926 Buster Keaton m...</td>\n",
       "    </tr>\n",
       "    <tr>\n",
       "      <th>4</th>\n",
       "      <td>5</td>\n",
       "      <td>Chivas Regal Ultis, 40%</td>\n",
       "      <td>Blended Malt Scotch Whisky</td>\n",
       "      <td>96</td>\n",
       "      <td>160</td>\n",
       "      <td>$</td>\n",
       "      <td>Captivating, enticing, and wonderfully charmin...</td>\n",
       "    </tr>\n",
       "    <tr>\n",
       "      <th>...</th>\n",
       "      <td>...</td>\n",
       "      <td>...</td>\n",
       "      <td>...</td>\n",
       "      <td>...</td>\n",
       "      <td>...</td>\n",
       "      <td>...</td>\n",
       "      <td>...</td>\n",
       "    </tr>\n",
       "    <tr>\n",
       "      <th>2242</th>\n",
       "      <td>2243</td>\n",
       "      <td>Duncan Taylor (distilled at Cameronbridge), Ca...</td>\n",
       "      <td>Grain Scotch Whisky</td>\n",
       "      <td>72</td>\n",
       "      <td>125.00</td>\n",
       "      <td>$</td>\n",
       "      <td>Its best attributes are vanilla, toasted cocon...</td>\n",
       "    </tr>\n",
       "    <tr>\n",
       "      <th>2243</th>\n",
       "      <td>2244</td>\n",
       "      <td>Distillery Select 'Craiglodge' (distilled at L...</td>\n",
       "      <td>Single Malt Scotch</td>\n",
       "      <td>71</td>\n",
       "      <td>60.00</td>\n",
       "      <td>$</td>\n",
       "      <td>Aged in a sherry cask, which adds sweet notes ...</td>\n",
       "    </tr>\n",
       "    <tr>\n",
       "      <th>2244</th>\n",
       "      <td>2245</td>\n",
       "      <td>Edradour Barolo Finish, 11 year old, 57.1%</td>\n",
       "      <td>Single Malt Scotch</td>\n",
       "      <td>70</td>\n",
       "      <td>80.00</td>\n",
       "      <td>$</td>\n",
       "      <td>Earthy, fleshy notes with brooding grape notes...</td>\n",
       "    </tr>\n",
       "    <tr>\n",
       "      <th>2245</th>\n",
       "      <td>2246</td>\n",
       "      <td>Highland Park, Cask #7380, 1981 vintage, 25 ye...</td>\n",
       "      <td>Single Malt Scotch</td>\n",
       "      <td>70</td>\n",
       "      <td>225.00</td>\n",
       "      <td>$</td>\n",
       "      <td>The sherry is very dominant and cloying, which...</td>\n",
       "    </tr>\n",
       "    <tr>\n",
       "      <th>2246</th>\n",
       "      <td>2247</td>\n",
       "      <td>Distillery Select 'Inchmoan' (distilled at Loc...</td>\n",
       "      <td>Single Malt Scotch</td>\n",
       "      <td>63</td>\n",
       "      <td>60.00</td>\n",
       "      <td>$</td>\n",
       "      <td>Fiery peat kiln smoke, tar, and ripe barley on...</td>\n",
       "    </tr>\n",
       "  </tbody>\n",
       "</table>\n",
       "<p>2247 rows × 7 columns</p>\n",
       "</div>"
      ],
      "text/plain": [
       "      Unnamed: 0                                               name  \\\n",
       "0              1                     Johnnie Walker Blue Label, 40%   \n",
       "1              2    Black Bowmore, 1964 vintage, 42 year old, 40.5%   \n",
       "2              3        Bowmore 46 year old (distilled 1964), 42.9%   \n",
       "3              4                     Compass Box The General, 53.4%   \n",
       "4              5                            Chivas Regal Ultis, 40%   \n",
       "...          ...                                                ...   \n",
       "2242        2243  Duncan Taylor (distilled at Cameronbridge), Ca...   \n",
       "2243        2244  Distillery Select 'Craiglodge' (distilled at L...   \n",
       "2244        2245         Edradour Barolo Finish, 11 year old, 57.1%   \n",
       "2245        2246  Highland Park, Cask #7380, 1981 vintage, 25 ye...   \n",
       "2246        2247  Distillery Select 'Inchmoan' (distilled at Loc...   \n",
       "\n",
       "                        category  review.point     price currency  \\\n",
       "0          Blended Scotch Whisky            97       225        $   \n",
       "1             Single Malt Scotch            97   4500.00        $   \n",
       "2             Single Malt Scotch            97  13500.00        $   \n",
       "3     Blended Malt Scotch Whisky            96       325        $   \n",
       "4     Blended Malt Scotch Whisky            96       160        $   \n",
       "...                          ...           ...       ...      ...   \n",
       "2242         Grain Scotch Whisky            72    125.00        $   \n",
       "2243          Single Malt Scotch            71     60.00        $   \n",
       "2244          Single Malt Scotch            70     80.00        $   \n",
       "2245          Single Malt Scotch            70    225.00        $   \n",
       "2246          Single Malt Scotch            63     60.00        $   \n",
       "\n",
       "                                            description  \n",
       "0     Magnificently powerful and intense. Caramels, ...  \n",
       "1     What impresses me most is how this whisky evol...  \n",
       "2     There have been some legendary Bowmores from t...  \n",
       "3     With a name inspired by a 1926 Buster Keaton m...  \n",
       "4     Captivating, enticing, and wonderfully charmin...  \n",
       "...                                                 ...  \n",
       "2242  Its best attributes are vanilla, toasted cocon...  \n",
       "2243  Aged in a sherry cask, which adds sweet notes ...  \n",
       "2244  Earthy, fleshy notes with brooding grape notes...  \n",
       "2245  The sherry is very dominant and cloying, which...  \n",
       "2246  Fiery peat kiln smoke, tar, and ripe barley on...  \n",
       "\n",
       "[2247 rows x 7 columns]"
      ]
     },
     "execution_count": 8,
     "metadata": {},
     "output_type": "execute_result"
    }
   ],
   "source": [
    "df"
   ]
  },
  {
   "cell_type": "code",
   "execution_count": 9,
   "id": "4099b02a",
   "metadata": {},
   "outputs": [
    {
     "data": {
      "text/plain": [
       "(2247, 7)"
      ]
     },
     "execution_count": 9,
     "metadata": {},
     "output_type": "execute_result"
    }
   ],
   "source": [
    "df.shape"
   ]
  },
  {
   "cell_type": "code",
   "execution_count": 10,
   "id": "1d952897",
   "metadata": {},
   "outputs": [
    {
     "data": {
      "text/plain": [
       "Unnamed: 0      0\n",
       "name            0\n",
       "category        0\n",
       "review.point    0\n",
       "price           0\n",
       "currency        0\n",
       "description     0\n",
       "dtype: int64"
      ]
     },
     "execution_count": 10,
     "metadata": {},
     "output_type": "execute_result"
    }
   ],
   "source": [
    "df.isnull().sum() #finding missing value"
   ]
  },
  {
   "cell_type": "code",
   "execution_count": 11,
   "id": "ce25057b",
   "metadata": {},
   "outputs": [
    {
     "data": {
      "text/html": [
       "<div>\n",
       "<style scoped>\n",
       "    .dataframe tbody tr th:only-of-type {\n",
       "        vertical-align: middle;\n",
       "    }\n",
       "\n",
       "    .dataframe tbody tr th {\n",
       "        vertical-align: top;\n",
       "    }\n",
       "\n",
       "    .dataframe thead th {\n",
       "        text-align: right;\n",
       "    }\n",
       "</style>\n",
       "<table border=\"1\" class=\"dataframe\">\n",
       "  <thead>\n",
       "    <tr style=\"text-align: right;\">\n",
       "      <th></th>\n",
       "      <th>column_name</th>\n",
       "      <th>no. of Unique Values</th>\n",
       "      <th>Missing Values</th>\n",
       "      <th>Class Type</th>\n",
       "    </tr>\n",
       "  </thead>\n",
       "  <tbody>\n",
       "    <tr>\n",
       "      <th>0</th>\n",
       "      <td>Unnamed: 0</td>\n",
       "      <td>2247</td>\n",
       "      <td>0</td>\n",
       "      <td>int64</td>\n",
       "    </tr>\n",
       "    <tr>\n",
       "      <th>1</th>\n",
       "      <td>name</td>\n",
       "      <td>2223</td>\n",
       "      <td>0</td>\n",
       "      <td>object</td>\n",
       "    </tr>\n",
       "    <tr>\n",
       "      <th>2</th>\n",
       "      <td>category</td>\n",
       "      <td>5</td>\n",
       "      <td>0</td>\n",
       "      <td>object</td>\n",
       "    </tr>\n",
       "    <tr>\n",
       "      <th>3</th>\n",
       "      <td>review.point</td>\n",
       "      <td>29</td>\n",
       "      <td>0</td>\n",
       "      <td>int64</td>\n",
       "    </tr>\n",
       "    <tr>\n",
       "      <th>4</th>\n",
       "      <td>price</td>\n",
       "      <td>632</td>\n",
       "      <td>0</td>\n",
       "      <td>object</td>\n",
       "    </tr>\n",
       "    <tr>\n",
       "      <th>5</th>\n",
       "      <td>currency</td>\n",
       "      <td>1</td>\n",
       "      <td>0</td>\n",
       "      <td>object</td>\n",
       "    </tr>\n",
       "    <tr>\n",
       "      <th>6</th>\n",
       "      <td>description</td>\n",
       "      <td>2245</td>\n",
       "      <td>0</td>\n",
       "      <td>object</td>\n",
       "    </tr>\n",
       "  </tbody>\n",
       "</table>\n",
       "</div>"
      ],
      "text/plain": [
       "    column_name  no. of Unique Values  Missing Values Class Type\n",
       "0    Unnamed: 0                  2247               0      int64\n",
       "1          name                  2223               0     object\n",
       "2      category                     5               0     object\n",
       "3  review.point                    29               0      int64\n",
       "4         price                   632               0     object\n",
       "5      currency                     1               0     object\n",
       "6   description                  2245               0     object"
      ]
     },
     "execution_count": 11,
     "metadata": {},
     "output_type": "execute_result"
    }
   ],
   "source": [
    "col=df.columns\n",
    "nunique=df.nunique()\n",
    "nul = df.isnull().sum()\n",
    "typ = df.dtypes\n",
    "nuniq = pd.DataFrame({'column_name':col,'no. of Unique Values':nunique,'Missing Values':nul,'Class Type':df.dtypes})\n",
    "nuniq.reset_index(drop=True)"
   ]
  },
  {
   "cell_type": "code",
   "execution_count": 12,
   "id": "b0f72d60",
   "metadata": {},
   "outputs": [
    {
     "name": "stdout",
     "output_type": "stream",
     "text": [
      "0          1\n",
      "1          2\n",
      "2          3\n",
      "3          4\n",
      "4          5\n",
      "        ... \n",
      "2242    2243\n",
      "2243    2244\n",
      "2244    2245\n",
      "2245    2246\n",
      "2246    2247\n",
      "Name: Unnamed: 0, Length: 2247, dtype: int64\n"
     ]
    },
    {
     "data": {
      "text/html": [
       "<div>\n",
       "<style scoped>\n",
       "    .dataframe tbody tr th:only-of-type {\n",
       "        vertical-align: middle;\n",
       "    }\n",
       "\n",
       "    .dataframe tbody tr th {\n",
       "        vertical-align: top;\n",
       "    }\n",
       "\n",
       "    .dataframe thead th {\n",
       "        text-align: right;\n",
       "    }\n",
       "</style>\n",
       "<table border=\"1\" class=\"dataframe\">\n",
       "  <thead>\n",
       "    <tr style=\"text-align: right;\">\n",
       "      <th></th>\n",
       "      <th>ID</th>\n",
       "      <th>name</th>\n",
       "      <th>category</th>\n",
       "      <th>review.point</th>\n",
       "      <th>price</th>\n",
       "      <th>currency</th>\n",
       "      <th>description</th>\n",
       "    </tr>\n",
       "  </thead>\n",
       "  <tbody>\n",
       "    <tr>\n",
       "      <th>0</th>\n",
       "      <td>1</td>\n",
       "      <td>Johnnie Walker Blue Label, 40%</td>\n",
       "      <td>Blended Scotch Whisky</td>\n",
       "      <td>97</td>\n",
       "      <td>225</td>\n",
       "      <td>$</td>\n",
       "      <td>Magnificently powerful and intense. Caramels, ...</td>\n",
       "    </tr>\n",
       "    <tr>\n",
       "      <th>1</th>\n",
       "      <td>2</td>\n",
       "      <td>Black Bowmore, 1964 vintage, 42 year old, 40.5%</td>\n",
       "      <td>Single Malt Scotch</td>\n",
       "      <td>97</td>\n",
       "      <td>4500.00</td>\n",
       "      <td>$</td>\n",
       "      <td>What impresses me most is how this whisky evol...</td>\n",
       "    </tr>\n",
       "    <tr>\n",
       "      <th>2</th>\n",
       "      <td>3</td>\n",
       "      <td>Bowmore 46 year old (distilled 1964), 42.9%</td>\n",
       "      <td>Single Malt Scotch</td>\n",
       "      <td>97</td>\n",
       "      <td>13500.00</td>\n",
       "      <td>$</td>\n",
       "      <td>There have been some legendary Bowmores from t...</td>\n",
       "    </tr>\n",
       "    <tr>\n",
       "      <th>3</th>\n",
       "      <td>4</td>\n",
       "      <td>Compass Box The General, 53.4%</td>\n",
       "      <td>Blended Malt Scotch Whisky</td>\n",
       "      <td>96</td>\n",
       "      <td>325</td>\n",
       "      <td>$</td>\n",
       "      <td>With a name inspired by a 1926 Buster Keaton m...</td>\n",
       "    </tr>\n",
       "    <tr>\n",
       "      <th>4</th>\n",
       "      <td>5</td>\n",
       "      <td>Chivas Regal Ultis, 40%</td>\n",
       "      <td>Blended Malt Scotch Whisky</td>\n",
       "      <td>96</td>\n",
       "      <td>160</td>\n",
       "      <td>$</td>\n",
       "      <td>Captivating, enticing, and wonderfully charmin...</td>\n",
       "    </tr>\n",
       "    <tr>\n",
       "      <th>...</th>\n",
       "      <td>...</td>\n",
       "      <td>...</td>\n",
       "      <td>...</td>\n",
       "      <td>...</td>\n",
       "      <td>...</td>\n",
       "      <td>...</td>\n",
       "      <td>...</td>\n",
       "    </tr>\n",
       "    <tr>\n",
       "      <th>2242</th>\n",
       "      <td>2243</td>\n",
       "      <td>Duncan Taylor (distilled at Cameronbridge), Ca...</td>\n",
       "      <td>Grain Scotch Whisky</td>\n",
       "      <td>72</td>\n",
       "      <td>125.00</td>\n",
       "      <td>$</td>\n",
       "      <td>Its best attributes are vanilla, toasted cocon...</td>\n",
       "    </tr>\n",
       "    <tr>\n",
       "      <th>2243</th>\n",
       "      <td>2244</td>\n",
       "      <td>Distillery Select 'Craiglodge' (distilled at L...</td>\n",
       "      <td>Single Malt Scotch</td>\n",
       "      <td>71</td>\n",
       "      <td>60.00</td>\n",
       "      <td>$</td>\n",
       "      <td>Aged in a sherry cask, which adds sweet notes ...</td>\n",
       "    </tr>\n",
       "    <tr>\n",
       "      <th>2244</th>\n",
       "      <td>2245</td>\n",
       "      <td>Edradour Barolo Finish, 11 year old, 57.1%</td>\n",
       "      <td>Single Malt Scotch</td>\n",
       "      <td>70</td>\n",
       "      <td>80.00</td>\n",
       "      <td>$</td>\n",
       "      <td>Earthy, fleshy notes with brooding grape notes...</td>\n",
       "    </tr>\n",
       "    <tr>\n",
       "      <th>2245</th>\n",
       "      <td>2246</td>\n",
       "      <td>Highland Park, Cask #7380, 1981 vintage, 25 ye...</td>\n",
       "      <td>Single Malt Scotch</td>\n",
       "      <td>70</td>\n",
       "      <td>225.00</td>\n",
       "      <td>$</td>\n",
       "      <td>The sherry is very dominant and cloying, which...</td>\n",
       "    </tr>\n",
       "    <tr>\n",
       "      <th>2246</th>\n",
       "      <td>2247</td>\n",
       "      <td>Distillery Select 'Inchmoan' (distilled at Loc...</td>\n",
       "      <td>Single Malt Scotch</td>\n",
       "      <td>63</td>\n",
       "      <td>60.00</td>\n",
       "      <td>$</td>\n",
       "      <td>Fiery peat kiln smoke, tar, and ripe barley on...</td>\n",
       "    </tr>\n",
       "  </tbody>\n",
       "</table>\n",
       "<p>2247 rows × 7 columns</p>\n",
       "</div>"
      ],
      "text/plain": [
       "        ID                                               name  \\\n",
       "0        1                     Johnnie Walker Blue Label, 40%   \n",
       "1        2    Black Bowmore, 1964 vintage, 42 year old, 40.5%   \n",
       "2        3        Bowmore 46 year old (distilled 1964), 42.9%   \n",
       "3        4                     Compass Box The General, 53.4%   \n",
       "4        5                            Chivas Regal Ultis, 40%   \n",
       "...    ...                                                ...   \n",
       "2242  2243  Duncan Taylor (distilled at Cameronbridge), Ca...   \n",
       "2243  2244  Distillery Select 'Craiglodge' (distilled at L...   \n",
       "2244  2245         Edradour Barolo Finish, 11 year old, 57.1%   \n",
       "2245  2246  Highland Park, Cask #7380, 1981 vintage, 25 ye...   \n",
       "2246  2247  Distillery Select 'Inchmoan' (distilled at Loc...   \n",
       "\n",
       "                        category  review.point     price currency  \\\n",
       "0          Blended Scotch Whisky            97       225        $   \n",
       "1             Single Malt Scotch            97   4500.00        $   \n",
       "2             Single Malt Scotch            97  13500.00        $   \n",
       "3     Blended Malt Scotch Whisky            96       325        $   \n",
       "4     Blended Malt Scotch Whisky            96       160        $   \n",
       "...                          ...           ...       ...      ...   \n",
       "2242         Grain Scotch Whisky            72    125.00        $   \n",
       "2243          Single Malt Scotch            71     60.00        $   \n",
       "2244          Single Malt Scotch            70     80.00        $   \n",
       "2245          Single Malt Scotch            70    225.00        $   \n",
       "2246          Single Malt Scotch            63     60.00        $   \n",
       "\n",
       "                                            description  \n",
       "0     Magnificently powerful and intense. Caramels, ...  \n",
       "1     What impresses me most is how this whisky evol...  \n",
       "2     There have been some legendary Bowmores from t...  \n",
       "3     With a name inspired by a 1926 Buster Keaton m...  \n",
       "4     Captivating, enticing, and wonderfully charmin...  \n",
       "...                                                 ...  \n",
       "2242  Its best attributes are vanilla, toasted cocon...  \n",
       "2243  Aged in a sherry cask, which adds sweet notes ...  \n",
       "2244  Earthy, fleshy notes with brooding grape notes...  \n",
       "2245  The sherry is very dominant and cloying, which...  \n",
       "2246  Fiery peat kiln smoke, tar, and ripe barley on...  \n",
       "\n",
       "[2247 rows x 7 columns]"
      ]
     },
     "execution_count": 12,
     "metadata": {},
     "output_type": "execute_result"
    }
   ],
   "source": [
    "print(df['Unnamed: 0'])\n",
    "# These all are the unique numbers \n",
    "#so let us rename this column\n",
    "df=df.rename(columns={'Unnamed: 0':'ID'})\n",
    "df"
   ]
  },
  {
   "cell_type": "code",
   "execution_count": 13,
   "id": "68a37705",
   "metadata": {},
   "outputs": [
    {
     "data": {
      "text/plain": [
       "0       $\n",
       "1       $\n",
       "2       $\n",
       "3       $\n",
       "4       $\n",
       "       ..\n",
       "2242    $\n",
       "2243    $\n",
       "2244    $\n",
       "2245    $\n",
       "2246    $\n",
       "Name: currency, Length: 2247, dtype: object"
      ]
     },
     "execution_count": 13,
     "metadata": {},
     "output_type": "execute_result"
    }
   ],
   "source": [
    "df['currency']"
   ]
  },
  {
   "cell_type": "code",
   "execution_count": 14,
   "id": "ba34ee16",
   "metadata": {},
   "outputs": [],
   "source": [
    "df = df.drop(['currency'],axis=1)"
   ]
  },
  {
   "cell_type": "code",
   "execution_count": 15,
   "id": "87e9b0ed",
   "metadata": {},
   "outputs": [
    {
     "data": {
      "text/html": [
       "<div>\n",
       "<style scoped>\n",
       "    .dataframe tbody tr th:only-of-type {\n",
       "        vertical-align: middle;\n",
       "    }\n",
       "\n",
       "    .dataframe tbody tr th {\n",
       "        vertical-align: top;\n",
       "    }\n",
       "\n",
       "    .dataframe thead th {\n",
       "        text-align: right;\n",
       "    }\n",
       "</style>\n",
       "<table border=\"1\" class=\"dataframe\">\n",
       "  <thead>\n",
       "    <tr style=\"text-align: right;\">\n",
       "      <th></th>\n",
       "      <th>ID</th>\n",
       "      <th>name</th>\n",
       "      <th>category</th>\n",
       "      <th>review.point</th>\n",
       "      <th>price</th>\n",
       "      <th>description</th>\n",
       "    </tr>\n",
       "  </thead>\n",
       "  <tbody>\n",
       "    <tr>\n",
       "      <th>0</th>\n",
       "      <td>1</td>\n",
       "      <td>Johnnie Walker Blue Label, 40%</td>\n",
       "      <td>Blended Scotch Whisky</td>\n",
       "      <td>97</td>\n",
       "      <td>225</td>\n",
       "      <td>Magnificently powerful and intense. Caramels, ...</td>\n",
       "    </tr>\n",
       "    <tr>\n",
       "      <th>1</th>\n",
       "      <td>2</td>\n",
       "      <td>Black Bowmore, 1964 vintage, 42 year old, 40.5%</td>\n",
       "      <td>Single Malt Scotch</td>\n",
       "      <td>97</td>\n",
       "      <td>4500.00</td>\n",
       "      <td>What impresses me most is how this whisky evol...</td>\n",
       "    </tr>\n",
       "    <tr>\n",
       "      <th>2</th>\n",
       "      <td>3</td>\n",
       "      <td>Bowmore 46 year old (distilled 1964), 42.9%</td>\n",
       "      <td>Single Malt Scotch</td>\n",
       "      <td>97</td>\n",
       "      <td>13500.00</td>\n",
       "      <td>There have been some legendary Bowmores from t...</td>\n",
       "    </tr>\n",
       "    <tr>\n",
       "      <th>3</th>\n",
       "      <td>4</td>\n",
       "      <td>Compass Box The General, 53.4%</td>\n",
       "      <td>Blended Malt Scotch Whisky</td>\n",
       "      <td>96</td>\n",
       "      <td>325</td>\n",
       "      <td>With a name inspired by a 1926 Buster Keaton m...</td>\n",
       "    </tr>\n",
       "    <tr>\n",
       "      <th>4</th>\n",
       "      <td>5</td>\n",
       "      <td>Chivas Regal Ultis, 40%</td>\n",
       "      <td>Blended Malt Scotch Whisky</td>\n",
       "      <td>96</td>\n",
       "      <td>160</td>\n",
       "      <td>Captivating, enticing, and wonderfully charmin...</td>\n",
       "    </tr>\n",
       "  </tbody>\n",
       "</table>\n",
       "</div>"
      ],
      "text/plain": [
       "   ID                                             name  \\\n",
       "0   1                   Johnnie Walker Blue Label, 40%   \n",
       "1   2  Black Bowmore, 1964 vintage, 42 year old, 40.5%   \n",
       "2   3      Bowmore 46 year old (distilled 1964), 42.9%   \n",
       "3   4                   Compass Box The General, 53.4%   \n",
       "4   5                          Chivas Regal Ultis, 40%   \n",
       "\n",
       "                     category  review.point     price  \\\n",
       "0       Blended Scotch Whisky            97       225   \n",
       "1          Single Malt Scotch            97   4500.00   \n",
       "2          Single Malt Scotch            97  13500.00   \n",
       "3  Blended Malt Scotch Whisky            96       325   \n",
       "4  Blended Malt Scotch Whisky            96       160   \n",
       "\n",
       "                                         description  \n",
       "0  Magnificently powerful and intense. Caramels, ...  \n",
       "1  What impresses me most is how this whisky evol...  \n",
       "2  There have been some legendary Bowmores from t...  \n",
       "3  With a name inspired by a 1926 Buster Keaton m...  \n",
       "4  Captivating, enticing, and wonderfully charmin...  "
      ]
     },
     "execution_count": 15,
     "metadata": {},
     "output_type": "execute_result"
    }
   ],
   "source": [
    "df.head()"
   ]
  },
  {
   "cell_type": "code",
   "execution_count": 16,
   "id": "99090e31",
   "metadata": {},
   "outputs": [
    {
     "name": "stdout",
     "output_type": "stream",
     "text": [
      "0         Blended Scotch Whisky\n",
      "1            Single Malt Scotch\n",
      "2            Single Malt Scotch\n",
      "3    Blended Malt Scotch Whisky\n",
      "4    Blended Malt Scotch Whisky\n",
      "Name: category, dtype: object\n",
      "\n",
      "\n",
      " Type of class of this feature is : object\n",
      "\n",
      "\n",
      " number of unique category :  5\n"
     ]
    },
    {
     "data": {
      "text/plain": [
       "array(['Blended Scotch Whisky', 'Single Malt Scotch',\n",
       "       'Blended Malt Scotch Whisky', 'Grain Scotch Whisky',\n",
       "       'Single Grain Whisky'], dtype=object)"
      ]
     },
     "execution_count": 16,
     "metadata": {},
     "output_type": "execute_result"
    }
   ],
   "source": [
    "print(df['category'].head())\n",
    "print('\\n\\n Type of class of this feature is :',df.category.dtype)\n",
    "print('\\n\\n number of unique category : ',df.category.nunique())\n",
    "df.category.unique()"
   ]
  },
  {
   "cell_type": "code",
   "execution_count": 17,
   "id": "a6629ec5",
   "metadata": {},
   "outputs": [
    {
     "data": {
      "image/png": "[encoded data removed]",
      "text/plain": [
       "<Figure size 720x504 with 1 Axes>"
      ]
     },
     "metadata": {
      "needs_background": "light"
     },
     "output_type": "display_data"
    }
   ],
   "source": [
    "plt.figure(figsize=(10,7))\n",
    "a=sns.countplot(df['category'],palette='rocket_r')\n",
    "_=plt.xticks(rotation=70)\n",
    "plt.show()"
   ]
  },
  {
   "cell_type": "code",
   "execution_count": 18,
   "id": "7f0fc991",
   "metadata": {},
   "outputs": [
    {
     "name": "stdout",
     "output_type": "stream",
     "text": [
      "Class type of the column \t int64\n",
      "number of the unique values :  29\n",
      "\n",
      " Let's check out the range of points given\t 63 - 97\n"
     ]
    }
   ],
   "source": [
    "print('Class type of the column \\t',df['review.point'].dtype)\n",
    "print('number of the unique values : ',df['review.point'].nunique())\n",
    "print(\"\\n Let's check out the range of points given\\t\",df['review.point'].min(),\"-\",df['review.point'].max())"
   ]
  },
  {
   "cell_type": "code",
   "execution_count": 19,
   "id": "a5a03931",
   "metadata": {},
   "outputs": [],
   "source": [
    "def fig(length,width):\n",
    "    plt.figure(figsize=(length,width))\n",
    "\n",
    "def setit(x):\n",
    "    _=plt.xticks(rotation=x)\n",
    "    plt.show()"
   ]
  },
  {
   "cell_type": "code",
   "execution_count": 20,
   "id": "4170e564",
   "metadata": {},
   "outputs": [
    {
     "data": {
      "text/plain": [
       "<Figure size 720x360 with 0 Axes>"
      ]
     },
     "metadata": {},
     "output_type": "display_data"
    },
    {
     "data": {
      "image/png": "[encoded data removed]",
      "text/plain": [
       "<Figure size 360x360 with 1 Axes>"
      ]
     },
     "metadata": {
      "needs_background": "light"
     },
     "output_type": "display_data"
    }
   ],
   "source": [
    "fig(10,5)\n",
    "sns.catplot('category','review.point',data=df,palette='Oranges_r')\n",
    "setit(70)"
   ]
  },
  {
   "cell_type": "code",
   "execution_count": 21,
   "id": "642f8691",
   "metadata": {},
   "outputs": [
    {
     "data": {
      "image/png": "[encoded data removed]",
      "text/plain": [
       "<Figure size 864x360 with 1 Axes>"
      ]
     },
     "metadata": {
      "needs_background": "light"
     },
     "output_type": "display_data"
    }
   ],
   "source": [
    "fig(12,5)\n",
    "sns.swarmplot(x=df['category'],y=df['review.point'])\n",
    "setit(70)"
   ]
  },
  {
   "cell_type": "code",
   "execution_count": 22,
   "id": "dcdd7c78",
   "metadata": {},
   "outputs": [
    {
     "data": {
      "image/png": "[encoded data removed]",
      "text/plain": [
       "<Figure size 864x504 with 1 Axes>"
      ]
     },
     "metadata": {
      "needs_background": "light"
     },
     "output_type": "display_data"
    }
   ],
   "source": [
    "fig(12,7)\n",
    "sns.boxplot(x=df['category'],y=df['review.point'],data=df,palette='Purples_r',saturation=.6,fliersize=8,whis=2)\n",
    "setit(70)"
   ]
  },
  {
   "cell_type": "code",
   "execution_count": 23,
   "id": "59335835",
   "metadata": {},
   "outputs": [
    {
     "data": {
      "image/png": "[encoded data removed]",
      "text/plain": [
       "<Figure size 432x288 with 1 Axes>"
      ]
     },
     "metadata": {
      "needs_background": "light"
     },
     "output_type": "display_data"
    }
   ],
   "source": [
    "sns.lineplot('category','review.point',data=df)\n",
    "setit(30)"
   ]
  },
  {
   "cell_type": "code",
   "execution_count": 24,
   "id": "77d11181",
   "metadata": {},
   "outputs": [
    {
     "data": {
      "image/png": "[encoded data removed]",
      "text/plain": [
       "<Figure size 504x360 with 1 Axes>"
      ]
     },
     "metadata": {
      "needs_background": "light"
     },
     "output_type": "display_data"
    }
   ],
   "source": [
    "fig(7,5)\n",
    "sns.scatterplot('category','review.point',data=df)\n",
    "plt.ylim(90,98)\n",
    "setit(30)"
   ]
  },
  {
   "cell_type": "code",
   "execution_count": 25,
   "id": "fb26ff48",
   "metadata": {},
   "outputs": [],
   "source": [
    "int_price=[]\n",
    "\n",
    "# finding out the complications in the column\n",
    "for i in df['price']:\n",
    "    #removing $ and , so that we can convert this feature price into integer type\n",
    "    _=re.sub(r'[$,]+','',i)\n",
    "    #converting float integrs\n",
    "    x=re.sub(r'\\W\\d\\d','',_)\n",
    "    z=0\n",
    "    #converting liter into one botle price\n",
    "    if (\"/l\" in x):\n",
    "        l=re.sub(r'[/l]\\w+','',x)\n",
    "        \n",
    "        z=int(l)\n",
    "        z=z*.75\n",
    "        int_price.append(z)\n",
    "        \n",
    "    # if any of the alphanumeric value like space like we encountered the case : ('$15,000 or $60,000/set')     \n",
    "    elif(\" \" in  x):\n",
    "        l= re.sub(r'[ ]\\w+\\W+\\w+','',x)\n",
    "        z=int(l)\n",
    "        int_price.append(z)\n",
    "            \n",
    "    elif (\"set\" in x):\n",
    "        l=re.sub(r'[/]\\w+','',x)\n",
    "        \n",
    "        z= int(l)\n",
    "        z=z/4\n",
    "        int_price.append(z)\n",
    "    else :\n",
    "        z=int(x)\n",
    "        int_price.append(z)\n",
    "#print(int_price)   "
   ]
  },
  {
   "cell_type": "code",
   "execution_count": 26,
   "id": "f42d7043",
   "metadata": {},
   "outputs": [],
   "source": [
    "df['price'] = int_price"
   ]
  },
  {
   "cell_type": "code",
   "execution_count": 27,
   "id": "937da40f",
   "metadata": {},
   "outputs": [
    {
     "data": {
      "text/plain": [
       "dtype('float64')"
      ]
     },
     "execution_count": 27,
     "metadata": {},
     "output_type": "execute_result"
    }
   ],
   "source": [
    "df['price'].dtype"
   ]
  },
  {
   "cell_type": "code",
   "execution_count": 28,
   "id": "37bcf04d",
   "metadata": {},
   "outputs": [
    {
     "data": {
      "image/png": "[encoded data removed]",
      "text/plain": [
       "<Figure size 720x360 with 1 Axes>"
      ]
     },
     "metadata": {
      "needs_background": "light"
     },
     "output_type": "display_data"
    }
   ],
   "source": [
    "fig(10,5)\n",
    "sns.set(color_codes=True)\n",
    "sns.lineplot(df['category'],df['price'],data=df)\n",
    "setit(10)"
   ]
  },
  {
   "cell_type": "code",
   "execution_count": 30,
   "id": "eff24331",
   "metadata": {},
   "outputs": [
    {
     "data": {
      "image/png": "[encoded data removed]",
      "text/plain": [
       "<Figure size 432x288 with 1 Axes>"
      ]
     },
     "metadata": {},
     "output_type": "display_data"
    }
   ],
   "source": [
    "sns.set(color_codes=True)\n",
    "sns.lineplot(y=df.price, x=df.index , data=df)\n",
    "plt.xlabel('Frequency');"
   ]
  },
  {
   "cell_type": "code",
   "execution_count": 31,
   "id": "fe43c82d",
   "metadata": {},
   "outputs": [
    {
     "data": {
      "text/plain": [
       "(0.0, 15000.0)"
      ]
     },
     "execution_count": 31,
     "metadata": {},
     "output_type": "execute_result"
    },
    {
     "data": {
      "image/png": "[encoded data removed]",
      "text/plain": [
       "<Figure size 432x288 with 1 Axes>"
      ]
     },
     "metadata": {},
     "output_type": "display_data"
    }
   ],
   "source": [
    "sns.lineplot(df['review.point'],df['price'],data=df)\n",
    "plt.xlim(60,100)\n",
    "plt.ylim(0,15000)"
   ]
  },
  {
   "cell_type": "code",
   "execution_count": 32,
   "id": "6429ae26",
   "metadata": {},
   "outputs": [
    {
     "data": {
      "text/plain": [
       "<Figure size 864x504 with 0 Axes>"
      ]
     },
     "metadata": {},
     "output_type": "display_data"
    },
    {
     "data": {
      "image/png": "[encoded data removed]",
      "text/plain": [
       "<Figure size 539.225x360 with 1 Axes>"
      ]
     },
     "metadata": {},
     "output_type": "display_data"
    }
   ],
   "source": [
    "fig(12,7)\n",
    "sns.lmplot('review.point','price',data=df,hue='category')\n",
    "_=plt.xlim(65,100)\n",
    "_=plt.ylim(0,18000)"
   ]
  },
  {
   "cell_type": "code",
   "execution_count": 33,
   "id": "d2b50523",
   "metadata": {},
   "outputs": [
    {
     "data": {
      "text/html": [
       "<div>\n",
       "<style scoped>\n",
       "    .dataframe tbody tr th:only-of-type {\n",
       "        vertical-align: middle;\n",
       "    }\n",
       "\n",
       "    .dataframe tbody tr th {\n",
       "        vertical-align: top;\n",
       "    }\n",
       "\n",
       "    .dataframe thead th {\n",
       "        text-align: right;\n",
       "    }\n",
       "</style>\n",
       "<table border=\"1\" class=\"dataframe\">\n",
       "  <thead>\n",
       "    <tr style=\"text-align: right;\">\n",
       "      <th></th>\n",
       "      <th>name</th>\n",
       "      <th>category</th>\n",
       "      <th>review.point</th>\n",
       "      <th>price</th>\n",
       "    </tr>\n",
       "  </thead>\n",
       "  <tbody>\n",
       "    <tr>\n",
       "      <th>0</th>\n",
       "      <td>Johnnie Walker Blue Label, 40%</td>\n",
       "      <td>Blended Scotch Whisky</td>\n",
       "      <td>97</td>\n",
       "      <td>225.0</td>\n",
       "    </tr>\n",
       "    <tr>\n",
       "      <th>2</th>\n",
       "      <td>Bowmore 46 year old (distilled 1964), 42.9%</td>\n",
       "      <td>Single Malt Scotch</td>\n",
       "      <td>97</td>\n",
       "      <td>13500.0</td>\n",
       "    </tr>\n",
       "    <tr>\n",
       "      <th>1</th>\n",
       "      <td>Black Bowmore, 1964 vintage, 42 year old, 40.5%</td>\n",
       "      <td>Single Malt Scotch</td>\n",
       "      <td>97</td>\n",
       "      <td>4500.0</td>\n",
       "    </tr>\n",
       "    <tr>\n",
       "      <th>8</th>\n",
       "      <td>The Dalmore, 50 year old, 52.8%</td>\n",
       "      <td>Single Malt Scotch</td>\n",
       "      <td>96</td>\n",
       "      <td>1500.0</td>\n",
       "    </tr>\n",
       "    <tr>\n",
       "      <th>11</th>\n",
       "      <td>Macallan 1976 Vintage, 29 year old, cask #1135...</td>\n",
       "      <td>Single Malt Scotch</td>\n",
       "      <td>96</td>\n",
       "      <td>1500.0</td>\n",
       "    </tr>\n",
       "    <tr>\n",
       "      <th>10</th>\n",
       "      <td>The Glenlivet Cellar Collection, 1969 vintage,...</td>\n",
       "      <td>Single Malt Scotch</td>\n",
       "      <td>96</td>\n",
       "      <td>750.0</td>\n",
       "    </tr>\n",
       "    <tr>\n",
       "      <th>9</th>\n",
       "      <td>Glenfarclas Family Casks 1954 Cask #1260, 47.2%</td>\n",
       "      <td>Single Malt Scotch</td>\n",
       "      <td>96</td>\n",
       "      <td>3360.0</td>\n",
       "    </tr>\n",
       "    <tr>\n",
       "      <th>12</th>\n",
       "      <td>The Last Drop (distilled at Lochside) 1972 (ca...</td>\n",
       "      <td>Grain Scotch Whisky</td>\n",
       "      <td>96</td>\n",
       "      <td>3108.0</td>\n",
       "    </tr>\n",
       "    <tr>\n",
       "      <th>7</th>\n",
       "      <td>Bowmore, 40 year old, 44.8%</td>\n",
       "      <td>Single Malt Scotch</td>\n",
       "      <td>96</td>\n",
       "      <td>11000.0</td>\n",
       "    </tr>\n",
       "    <tr>\n",
       "      <th>6</th>\n",
       "      <td>Gold Bowmore, 1964 vintage, 42.4%</td>\n",
       "      <td>Single Malt Scotch</td>\n",
       "      <td>96</td>\n",
       "      <td>6250.0</td>\n",
       "    </tr>\n",
       "    <tr>\n",
       "      <th>5</th>\n",
       "      <td>Ardbeg Corryvreckan, 57.1%</td>\n",
       "      <td>Single Malt Scotch</td>\n",
       "      <td>96</td>\n",
       "      <td>85.0</td>\n",
       "    </tr>\n",
       "    <tr>\n",
       "      <th>4</th>\n",
       "      <td>Chivas Regal Ultis, 40%</td>\n",
       "      <td>Blended Malt Scotch Whisky</td>\n",
       "      <td>96</td>\n",
       "      <td>160.0</td>\n",
       "    </tr>\n",
       "    <tr>\n",
       "      <th>3</th>\n",
       "      <td>Compass Box The General, 53.4%</td>\n",
       "      <td>Blended Malt Scotch Whisky</td>\n",
       "      <td>96</td>\n",
       "      <td>325.0</td>\n",
       "    </tr>\n",
       "    <tr>\n",
       "      <th>25</th>\n",
       "      <td>Brora 35 year old, 49.9%</td>\n",
       "      <td>Single Malt Scotch</td>\n",
       "      <td>95</td>\n",
       "      <td>750.0</td>\n",
       "    </tr>\n",
       "    <tr>\n",
       "      <th>36</th>\n",
       "      <td>The Last Drop 50 year old, 50.9%</td>\n",
       "      <td>Blended Scotch Whisky</td>\n",
       "      <td>95</td>\n",
       "      <td>4000.0</td>\n",
       "    </tr>\n",
       "  </tbody>\n",
       "</table>\n",
       "</div>"
      ],
      "text/plain": [
       "                                                 name  \\\n",
       "0                      Johnnie Walker Blue Label, 40%   \n",
       "2         Bowmore 46 year old (distilled 1964), 42.9%   \n",
       "1     Black Bowmore, 1964 vintage, 42 year old, 40.5%   \n",
       "8                     The Dalmore, 50 year old, 52.8%   \n",
       "11  Macallan 1976 Vintage, 29 year old, cask #1135...   \n",
       "10  The Glenlivet Cellar Collection, 1969 vintage,...   \n",
       "9     Glenfarclas Family Casks 1954 Cask #1260, 47.2%   \n",
       "12  The Last Drop (distilled at Lochside) 1972 (ca...   \n",
       "7                         Bowmore, 40 year old, 44.8%   \n",
       "6                  Gold Bowmore, 1964 vintage, 42.4%    \n",
       "5                          Ardbeg Corryvreckan, 57.1%   \n",
       "4                             Chivas Regal Ultis, 40%   \n",
       "3                      Compass Box The General, 53.4%   \n",
       "25                           Brora 35 year old, 49.9%   \n",
       "36                   The Last Drop 50 year old, 50.9%   \n",
       "\n",
       "                      category  review.point    price  \n",
       "0        Blended Scotch Whisky            97    225.0  \n",
       "2           Single Malt Scotch            97  13500.0  \n",
       "1           Single Malt Scotch            97   4500.0  \n",
       "8           Single Malt Scotch            96   1500.0  \n",
       "11          Single Malt Scotch            96   1500.0  \n",
       "10          Single Malt Scotch            96    750.0  \n",
       "9           Single Malt Scotch            96   3360.0  \n",
       "12         Grain Scotch Whisky            96   3108.0  \n",
       "7           Single Malt Scotch            96  11000.0  \n",
       "6           Single Malt Scotch            96   6250.0  \n",
       "5           Single Malt Scotch            96     85.0  \n",
       "4   Blended Malt Scotch Whisky            96    160.0  \n",
       "3   Blended Malt Scotch Whisky            96    325.0  \n",
       "25          Single Malt Scotch            95    750.0  \n",
       "36       Blended Scotch Whisky            95   4000.0  "
      ]
     },
     "execution_count": 33,
     "metadata": {},
     "output_type": "execute_result"
    }
   ],
   "source": [
    "df.sort_values(by = 'review.point' , ascending = False)[['name','category','review.point','price' ]].head(15)"
   ]
  },
  {
   "cell_type": "code",
   "execution_count": 34,
   "id": "d4e2bed4",
   "metadata": {},
   "outputs": [
    {
     "name": "stdout",
     "output_type": "stream",
     "text": [
      "Average price of all the scotch in data set is: \t 563.0057854917668\n",
      "Average review point of all the scotch in data set is: \t 86.70004450378282\n"
     ]
    }
   ],
   "source": [
    "avp=df['price'].mean()\n",
    "avr=df['review.point'].mean()\n",
    "print('Average price of all the scotch in data set is: \\t',avp)\n",
    "print('Average review point of all the scotch in data set is: \\t',avr)"
   ]
  },
  {
   "cell_type": "code",
   "execution_count": 35,
   "id": "b806c296",
   "metadata": {},
   "outputs": [
    {
     "data": {
      "text/html": [
       "<div>\n",
       "<style scoped>\n",
       "    .dataframe tbody tr th:only-of-type {\n",
       "        vertical-align: middle;\n",
       "    }\n",
       "\n",
       "    .dataframe tbody tr th {\n",
       "        vertical-align: top;\n",
       "    }\n",
       "\n",
       "    .dataframe thead th {\n",
       "        text-align: right;\n",
       "    }\n",
       "</style>\n",
       "<table border=\"1\" class=\"dataframe\">\n",
       "  <thead>\n",
       "    <tr style=\"text-align: right;\">\n",
       "      <th></th>\n",
       "      <th>ID</th>\n",
       "      <th>name</th>\n",
       "      <th>category</th>\n",
       "      <th>review.point</th>\n",
       "      <th>price</th>\n",
       "      <th>description</th>\n",
       "    </tr>\n",
       "  </thead>\n",
       "  <tbody>\n",
       "    <tr>\n",
       "      <th>87</th>\n",
       "      <td>88</td>\n",
       "      <td>Black Bottle, 10 year old, 43%</td>\n",
       "      <td>Blended Scotch Whisky</td>\n",
       "      <td>93</td>\n",
       "      <td>34.0</td>\n",
       "      <td>Black Bottle is unique in that it combines sev...</td>\n",
       "    </tr>\n",
       "    <tr>\n",
       "      <th>119</th>\n",
       "      <td>120</td>\n",
       "      <td>Glenmorangie Original, 10 year old, 43%</td>\n",
       "      <td>Single Malt Scotch</td>\n",
       "      <td>93</td>\n",
       "      <td>45.0</td>\n",
       "      <td>Fresh, vibrant, and beautifully complex. A cle...</td>\n",
       "    </tr>\n",
       "    <tr>\n",
       "      <th>265</th>\n",
       "      <td>266</td>\n",
       "      <td>Big Peat Small Batch, 53.6%</td>\n",
       "      <td>Blended Malt Scotch Whisky</td>\n",
       "      <td>92</td>\n",
       "      <td>48.0</td>\n",
       "      <td>The original Big Peat was a mix of smoky Islay...</td>\n",
       "    </tr>\n",
       "    <tr>\n",
       "      <th>280</th>\n",
       "      <td>281</td>\n",
       "      <td>Compass Box Great King Street Artist's Blend, 43%</td>\n",
       "      <td>Blended Scotch Whisky</td>\n",
       "      <td>91</td>\n",
       "      <td>45.0</td>\n",
       "      <td>After a series of esoteric and expensive relea...</td>\n",
       "    </tr>\n",
       "  </tbody>\n",
       "</table>\n",
       "</div>"
      ],
      "text/plain": [
       "      ID                                               name  \\\n",
       "87    88                     Black Bottle, 10 year old, 43%   \n",
       "119  120            Glenmorangie Original, 10 year old, 43%   \n",
       "265  266                        Big Peat Small Batch, 53.6%   \n",
       "280  281  Compass Box Great King Street Artist's Blend, 43%   \n",
       "\n",
       "                       category  review.point  price  \\\n",
       "87        Blended Scotch Whisky            93   34.0   \n",
       "119          Single Malt Scotch            93   45.0   \n",
       "265  Blended Malt Scotch Whisky            92   48.0   \n",
       "280       Blended Scotch Whisky            91   45.0   \n",
       "\n",
       "                                           description  \n",
       "87   Black Bottle is unique in that it combines sev...  \n",
       "119  Fresh, vibrant, and beautifully complex. A cle...  \n",
       "265  The original Big Peat was a mix of smoky Islay...  \n",
       "280  After a series of esoteric and expensive relea...  "
      ]
     },
     "execution_count": 35,
     "metadata": {},
     "output_type": "execute_result"
    }
   ],
   "source": [
    "# scotch under $50 with review point above 90\n",
    "_50=df[(df['review.point'] > 90) & (df['price'] < 50)]\n",
    "_50"
   ]
  },
  {
   "cell_type": "code",
   "execution_count": 36,
   "id": "370aa233",
   "metadata": {},
   "outputs": [
    {
     "data": {
      "text/html": [
       "<div>\n",
       "<style scoped>\n",
       "    .dataframe tbody tr th:only-of-type {\n",
       "        vertical-align: middle;\n",
       "    }\n",
       "\n",
       "    .dataframe tbody tr th {\n",
       "        vertical-align: top;\n",
       "    }\n",
       "\n",
       "    .dataframe thead th {\n",
       "        text-align: right;\n",
       "    }\n",
       "</style>\n",
       "<table border=\"1\" class=\"dataframe\">\n",
       "  <thead>\n",
       "    <tr style=\"text-align: right;\">\n",
       "      <th></th>\n",
       "      <th>ID</th>\n",
       "      <th>name</th>\n",
       "      <th>category</th>\n",
       "      <th>review.point</th>\n",
       "      <th>price</th>\n",
       "      <th>description</th>\n",
       "    </tr>\n",
       "  </thead>\n",
       "  <tbody>\n",
       "    <tr>\n",
       "      <th>5</th>\n",
       "      <td>6</td>\n",
       "      <td>Ardbeg Corryvreckan, 57.1%</td>\n",
       "      <td>Single Malt Scotch</td>\n",
       "      <td>96</td>\n",
       "      <td>85.0</td>\n",
       "      <td>Powerful, muscular, well-textured, and invigor...</td>\n",
       "    </tr>\n",
       "  </tbody>\n",
       "</table>\n",
       "</div>"
      ],
      "text/plain": [
       "   ID                        name            category  review.point  price  \\\n",
       "5   6  Ardbeg Corryvreckan, 57.1%  Single Malt Scotch            96   85.0   \n",
       "\n",
       "                                         description  \n",
       "5  Powerful, muscular, well-textured, and invigor...  "
      ]
     },
     "execution_count": 36,
     "metadata": {},
     "output_type": "execute_result"
    }
   ],
   "source": [
    "#scotch under $100 with rating above 95\n",
    "_100=df[(df['review.point'] > 95) & (df['price'] < 100)]\n",
    "_100"
   ]
  },
  {
   "cell_type": "code",
   "execution_count": 37,
   "id": "b926546d",
   "metadata": {},
   "outputs": [
    {
     "data": {
      "text/html": [
       "<div>\n",
       "<style scoped>\n",
       "    .dataframe tbody tr th:only-of-type {\n",
       "        vertical-align: middle;\n",
       "    }\n",
       "\n",
       "    .dataframe tbody tr th {\n",
       "        vertical-align: top;\n",
       "    }\n",
       "\n",
       "    .dataframe thead th {\n",
       "        text-align: right;\n",
       "    }\n",
       "</style>\n",
       "<table border=\"1\" class=\"dataframe\">\n",
       "  <thead>\n",
       "    <tr style=\"text-align: right;\">\n",
       "      <th></th>\n",
       "      <th>ID</th>\n",
       "      <th>name</th>\n",
       "      <th>category</th>\n",
       "      <th>review.point</th>\n",
       "      <th>price</th>\n",
       "      <th>description</th>\n",
       "    </tr>\n",
       "  </thead>\n",
       "  <tbody>\n",
       "    <tr>\n",
       "      <th>2234</th>\n",
       "      <td>2235</td>\n",
       "      <td>Knockando 25 year old Special Release 2011, 43%</td>\n",
       "      <td>Single Malt Scotch</td>\n",
       "      <td>75</td>\n",
       "      <td>220.0</td>\n",
       "      <td>What a contrast with the standard bottling. He...</td>\n",
       "    </tr>\n",
       "    <tr>\n",
       "      <th>2236</th>\n",
       "      <td>2237</td>\n",
       "      <td>The Macallan Lalique Decanter, 55 year old, 40.1%</td>\n",
       "      <td>Single Malt Scotch</td>\n",
       "      <td>74</td>\n",
       "      <td>12000.0</td>\n",
       "      <td>Deep, thick nose, with sappy oak, dried citrus...</td>\n",
       "    </tr>\n",
       "    <tr>\n",
       "      <th>2237</th>\n",
       "      <td>2238</td>\n",
       "      <td>Signatory (distilled at Kinclaith), Cask #3014...</td>\n",
       "      <td>Single Malt Scotch</td>\n",
       "      <td>73</td>\n",
       "      <td>1700.0</td>\n",
       "      <td>This Lowland distillery only operated from 195...</td>\n",
       "    </tr>\n",
       "    <tr>\n",
       "      <th>2238</th>\n",
       "      <td>2239</td>\n",
       "      <td>Gordon &amp; MacPhail (distilled at Port Ellen), 1...</td>\n",
       "      <td>Single Malt Scotch</td>\n",
       "      <td>73</td>\n",
       "      <td>250.0</td>\n",
       "      <td>Port Ellen is going to just keep getting rarer...</td>\n",
       "    </tr>\n",
       "    <tr>\n",
       "      <th>2242</th>\n",
       "      <td>2243</td>\n",
       "      <td>Duncan Taylor (distilled at Cameronbridge), Ca...</td>\n",
       "      <td>Grain Scotch Whisky</td>\n",
       "      <td>72</td>\n",
       "      <td>125.0</td>\n",
       "      <td>Its best attributes are vanilla, toasted cocon...</td>\n",
       "    </tr>\n",
       "    <tr>\n",
       "      <th>2245</th>\n",
       "      <td>2246</td>\n",
       "      <td>Highland Park, Cask #7380, 1981 vintage, 25 ye...</td>\n",
       "      <td>Single Malt Scotch</td>\n",
       "      <td>70</td>\n",
       "      <td>225.0</td>\n",
       "      <td>The sherry is very dominant and cloying, which...</td>\n",
       "    </tr>\n",
       "  </tbody>\n",
       "</table>\n",
       "</div>"
      ],
      "text/plain": [
       "        ID                                               name  \\\n",
       "2234  2235    Knockando 25 year old Special Release 2011, 43%   \n",
       "2236  2237  The Macallan Lalique Decanter, 55 year old, 40.1%   \n",
       "2237  2238  Signatory (distilled at Kinclaith), Cask #3014...   \n",
       "2238  2239  Gordon & MacPhail (distilled at Port Ellen), 1...   \n",
       "2242  2243  Duncan Taylor (distilled at Cameronbridge), Ca...   \n",
       "2245  2246  Highland Park, Cask #7380, 1981 vintage, 25 ye...   \n",
       "\n",
       "                 category  review.point    price  \\\n",
       "2234   Single Malt Scotch            75    220.0   \n",
       "2236   Single Malt Scotch            74  12000.0   \n",
       "2237   Single Malt Scotch            73   1700.0   \n",
       "2238   Single Malt Scotch            73    250.0   \n",
       "2242  Grain Scotch Whisky            72    125.0   \n",
       "2245   Single Malt Scotch            70    225.0   \n",
       "\n",
       "                                            description  \n",
       "2234  What a contrast with the standard bottling. He...  \n",
       "2236  Deep, thick nose, with sappy oak, dried citrus...  \n",
       "2237  This Lowland distillery only operated from 195...  \n",
       "2238  Port Ellen is going to just keep getting rarer...  \n",
       "2242  Its best attributes are vanilla, toasted cocon...  \n",
       "2245  The sherry is very dominant and cloying, which...  "
      ]
     },
     "execution_count": 37,
     "metadata": {},
     "output_type": "execute_result"
    }
   ],
   "source": [
    "#scotch above $100 but review point below 76\n",
    "#worst scotch in the list\n",
    "_100_=df[(df['review.point'] < 76) & (df['price'] > 100)]\n",
    "_100_"
   ]
  },
  {
   "cell_type": "code",
   "execution_count": 38,
   "id": "deaf36f8",
   "metadata": {},
   "outputs": [],
   "source": [
    "# avp/avr ratio\n",
    "# df['ratio'] will show us the\n",
    "ratio = df['price']/df['review.point']\n",
    "z=pd.DataFrame({'name':df['name'],'marks':df['review.point'],'price':df['price'],'category':df['category'],'ratio':ratio})"
   ]
  },
  {
   "cell_type": "code",
   "execution_count": 39,
   "id": "091a1681",
   "metadata": {},
   "outputs": [
    {
     "data": {
      "text/html": [
       "<div>\n",
       "<style scoped>\n",
       "    .dataframe tbody tr th:only-of-type {\n",
       "        vertical-align: middle;\n",
       "    }\n",
       "\n",
       "    .dataframe tbody tr th {\n",
       "        vertical-align: top;\n",
       "    }\n",
       "\n",
       "    .dataframe thead th {\n",
       "        text-align: right;\n",
       "    }\n",
       "</style>\n",
       "<table border=\"1\" class=\"dataframe\">\n",
       "  <thead>\n",
       "    <tr style=\"text-align: right;\">\n",
       "      <th></th>\n",
       "      <th>name</th>\n",
       "      <th>marks</th>\n",
       "      <th>price</th>\n",
       "      <th>category</th>\n",
       "      <th>ratio</th>\n",
       "    </tr>\n",
       "  </thead>\n",
       "  <tbody>\n",
       "    <tr>\n",
       "      <th>970</th>\n",
       "      <td>Carlyle, 40%</td>\n",
       "      <td>88</td>\n",
       "      <td>13.0</td>\n",
       "      <td>Single Malt Scotch</td>\n",
       "      <td>0.147727</td>\n",
       "    </tr>\n",
       "    <tr>\n",
       "      <th>1780</th>\n",
       "      <td>Jamie Stewart, 40%</td>\n",
       "      <td>84</td>\n",
       "      <td>16.0</td>\n",
       "      <td>Blended Scotch Whisky</td>\n",
       "      <td>0.190476</td>\n",
       "    </tr>\n",
       "    <tr>\n",
       "      <th>2000</th>\n",
       "      <td>Monarch of The Glen 8 year old, 40%</td>\n",
       "      <td>82</td>\n",
       "      <td>15.0</td>\n",
       "      <td>Blended Scotch Whisky</td>\n",
       "      <td>0.182927</td>\n",
       "    </tr>\n",
       "    <tr>\n",
       "      <th>2073</th>\n",
       "      <td>Sir Edward’s Blended Whisky, 40%</td>\n",
       "      <td>81</td>\n",
       "      <td>14.0</td>\n",
       "      <td>Blended Scotch Whisky</td>\n",
       "      <td>0.172840</td>\n",
       "    </tr>\n",
       "    <tr>\n",
       "      <th>2074</th>\n",
       "      <td>Monarch of the Glen, 40%</td>\n",
       "      <td>81</td>\n",
       "      <td>12.0</td>\n",
       "      <td>Blended Scotch Whisky</td>\n",
       "      <td>0.148148</td>\n",
       "    </tr>\n",
       "    <tr>\n",
       "      <th>2167</th>\n",
       "      <td>MacQueen’s 3 year old, 40%</td>\n",
       "      <td>80</td>\n",
       "      <td>13.0</td>\n",
       "      <td>Blended Scotch Whisky</td>\n",
       "      <td>0.162500</td>\n",
       "    </tr>\n",
       "    <tr>\n",
       "      <th>2198</th>\n",
       "      <td>High Commissioner, 40%</td>\n",
       "      <td>79</td>\n",
       "      <td>15.0</td>\n",
       "      <td>Blended Scotch Whisky</td>\n",
       "      <td>0.189873</td>\n",
       "    </tr>\n",
       "    <tr>\n",
       "      <th>2227</th>\n",
       "      <td>Clansman, 40%</td>\n",
       "      <td>77</td>\n",
       "      <td>14.0</td>\n",
       "      <td>Blended Scotch Whisky</td>\n",
       "      <td>0.181818</td>\n",
       "    </tr>\n",
       "  </tbody>\n",
       "</table>\n",
       "</div>"
      ],
      "text/plain": [
       "                                     name  marks  price  \\\n",
       "970                          Carlyle, 40%     88   13.0   \n",
       "1780                   Jamie Stewart, 40%     84   16.0   \n",
       "2000  Monarch of The Glen 8 year old, 40%     82   15.0   \n",
       "2073     Sir Edward’s Blended Whisky, 40%     81   14.0   \n",
       "2074             Monarch of the Glen, 40%     81   12.0   \n",
       "2167           MacQueen’s 3 year old, 40%     80   13.0   \n",
       "2198               High Commissioner, 40%     79   15.0   \n",
       "2227                        Clansman, 40%     77   14.0   \n",
       "\n",
       "                   category     ratio  \n",
       "970      Single Malt Scotch  0.147727  \n",
       "1780  Blended Scotch Whisky  0.190476  \n",
       "2000  Blended Scotch Whisky  0.182927  \n",
       "2073  Blended Scotch Whisky  0.172840  \n",
       "2074  Blended Scotch Whisky  0.148148  \n",
       "2167  Blended Scotch Whisky  0.162500  \n",
       "2198  Blended Scotch Whisky  0.189873  \n",
       "2227  Blended Scotch Whisky  0.181818  "
      ]
     },
     "execution_count": 39,
     "metadata": {},
     "output_type": "execute_result"
    }
   ],
   "source": [
    "#Scotch that gives good value for money\n",
    "#price efficient scotch\n",
    "z[z['ratio']<.2]"
   ]
  },
  {
   "cell_type": "code",
   "execution_count": 40,
   "id": "a11145e3",
   "metadata": {},
   "outputs": [
    {
     "data": {
      "text/plain": [
       "(0.0, 0.00115)"
      ]
     },
     "execution_count": 40,
     "metadata": {},
     "output_type": "execute_result"
    },
    {
     "data": {
      "image/png": "[encoded data removed]",
      "text/plain": [
       "<Figure size 432x288 with 1 Axes>"
      ]
     },
     "metadata": {},
     "output_type": "display_data"
    }
   ],
   "source": [
    "sns.distplot(z['ratio'])\n",
    "plt.ylim(0,0.00115)"
   ]
  },
  {
   "cell_type": "code",
   "execution_count": 41,
   "id": "846d2e67",
   "metadata": {},
   "outputs": [
    {
     "data": {
      "text/plain": [
       "0                     Johnnie Walker Blue Label, 40%\n",
       "1    Black Bowmore, 1964 vintage, 42 year old, 40.5%\n",
       "2        Bowmore 46 year old (distilled 1964), 42.9%\n",
       "3                     Compass Box The General, 53.4%\n",
       "4                            Chivas Regal Ultis, 40%\n",
       "Name: name, dtype: object"
      ]
     },
     "execution_count": 41,
     "metadata": {},
     "output_type": "execute_result"
    }
   ],
   "source": [
    "#Now working over the text data\n",
    "#Name\n",
    "df['name'].head(5)"
   ]
  },
  {
   "cell_type": "code",
   "execution_count": 42,
   "id": "742b4e44",
   "metadata": {},
   "outputs": [],
   "source": [
    "#clearing the unwanted string present in ()\n",
    "clean = []\n",
    "for i in df.name:\n",
    "    if (\"(\" in i):\n",
    "        x  =re.sub( r'\\([^)]*\\)','',i )\n",
    "        clean.append(x)\n",
    "    else : \n",
    "        clean.append(i)"
   ]
  },
  {
   "cell_type": "code",
   "execution_count": 43,
   "id": "0c6bde58",
   "metadata": {},
   "outputs": [],
   "source": [
    "df['name'] = clean\n",
    "#remove head() and take the insight of name\n",
    "df['name'].head()\n",
    "review=df.copy()"
   ]
  },
  {
   "cell_type": "code",
   "execution_count": 44,
   "id": "7c5f442a",
   "metadata": {},
   "outputs": [],
   "source": [
    "# finding the alchohol content percentage of each of the bottle of scotch\n",
    "alc=[]\n",
    "for i in df['name']:\n",
    "    per = re.findall(r'(\\d\\d\\W?\\d?%)',i)\n",
    "    if (len(per) == 0):\n",
    "        _ = float('NaN')\n",
    "        alc.append(_)\n",
    "    else:\n",
    "        if(len(per)==2):\n",
    "            __=re.sub('%','',per[1])\n",
    "            _=float(__)\n",
    "            alc.append(_)\n",
    "        else:\n",
    "            __ = re.sub('%','',per[0])\n",
    "            _ = float(__)\n",
    "            alc.append(_)"
   ]
  },
  {
   "cell_type": "code",
   "execution_count": 45,
   "id": "8f4d2381",
   "metadata": {},
   "outputs": [],
   "source": [
    "df['percentage']=alc"
   ]
  },
  {
   "cell_type": "code",
   "execution_count": 46,
   "id": "3d9a1e35",
   "metadata": {},
   "outputs": [],
   "source": [
    "clean =[]\n",
    "# removing the alchohol percentage from name\n",
    "for i in df['name']:\n",
    "    _ = re.sub(r'(\\d\\d\\W?\\d?%)','',i)\n",
    "    clean.append(_)\n",
    "df['name']=clean"
   ]
  },
  {
   "cell_type": "code",
   "execution_count": 47,
   "id": "dd74a673",
   "metadata": {},
   "outputs": [],
   "source": [
    "# finding the age of the bottle\n",
    "age=[]\n",
    "for i in df['name']:\n",
    "    yod = re.findall('\\d\\d? year old',i)\n",
    "    if (len(yod) == 1):\n",
    "        __ = re.findall('\\d\\d?',yod[0])\n",
    "        ag=int(__[0])\n",
    "        age.append(ag)\n",
    "    else:\n",
    "        __ = re.findall(' \\d\\d\\d\\d ',i)\n",
    "        if (len(__)== 1):\n",
    "            _=int(__[0])\n",
    "            ag=2020-_\n",
    "            if (ag>200):\n",
    "                ag=float(\"NaN\")\n",
    "                age.append(ag)\n",
    "            else :\n",
    "                age.append(ag)\n",
    "        else:\n",
    "            ag=float('NaN')\n",
    "            age.append(ag)"
   ]
  },
  {
   "cell_type": "code",
   "execution_count": 48,
   "id": "3252f32b",
   "metadata": {},
   "outputs": [],
   "source": [
    "df['age'] = age"
   ]
  },
  {
   "cell_type": "code",
   "execution_count": 49,
   "id": "d67e7643",
   "metadata": {},
   "outputs": [],
   "source": [
    "clean=[]\n",
    "#removing the age\n",
    "for i in df['name']:\n",
    "    _ = re.sub(' \\d\\d? year old','',i)\n",
    "    clean.append(_)\n",
    "df['name'] = clean    "
   ]
  },
  {
   "cell_type": "code",
   "execution_count": 50,
   "id": "e177caf3",
   "metadata": {},
   "outputs": [],
   "source": [
    "#final cleaning of df['name']\n",
    "clean=[]\n",
    "for i in df['name']:\n",
    "    i=re.sub(r'[,]+','',i)\n",
    "    i=re.sub(r'  ',' ',i)\n",
    "    clean.append(i)\n",
    "df['name'] = clean"
   ]
  },
  {
   "cell_type": "code",
   "execution_count": 51,
   "id": "982b20d4",
   "metadata": {},
   "outputs": [],
   "source": [
    "#Now we have a new data set"
   ]
  },
  {
   "cell_type": "code",
   "execution_count": 52,
   "id": "daafacfa",
   "metadata": {},
   "outputs": [
    {
     "data": {
      "text/html": [
       "<div>\n",
       "<style scoped>\n",
       "    .dataframe tbody tr th:only-of-type {\n",
       "        vertical-align: middle;\n",
       "    }\n",
       "\n",
       "    .dataframe tbody tr th {\n",
       "        vertical-align: top;\n",
       "    }\n",
       "\n",
       "    .dataframe thead th {\n",
       "        text-align: right;\n",
       "    }\n",
       "</style>\n",
       "<table border=\"1\" class=\"dataframe\">\n",
       "  <thead>\n",
       "    <tr style=\"text-align: right;\">\n",
       "      <th></th>\n",
       "      <th>ID</th>\n",
       "      <th>name</th>\n",
       "      <th>category</th>\n",
       "      <th>review.point</th>\n",
       "      <th>price</th>\n",
       "      <th>description</th>\n",
       "      <th>percentage</th>\n",
       "      <th>age</th>\n",
       "    </tr>\n",
       "  </thead>\n",
       "  <tbody>\n",
       "    <tr>\n",
       "      <th>0</th>\n",
       "      <td>1</td>\n",
       "      <td>Johnnie Walker Blue Label</td>\n",
       "      <td>Blended Scotch Whisky</td>\n",
       "      <td>97</td>\n",
       "      <td>225.0</td>\n",
       "      <td>Magnificently powerful and intense. Caramels, ...</td>\n",
       "      <td>40.0</td>\n",
       "      <td>NaN</td>\n",
       "    </tr>\n",
       "    <tr>\n",
       "      <th>1</th>\n",
       "      <td>2</td>\n",
       "      <td>Black Bowmore 1964 vintage</td>\n",
       "      <td>Single Malt Scotch</td>\n",
       "      <td>97</td>\n",
       "      <td>4500.0</td>\n",
       "      <td>What impresses me most is how this whisky evol...</td>\n",
       "      <td>40.5</td>\n",
       "      <td>42.0</td>\n",
       "    </tr>\n",
       "    <tr>\n",
       "      <th>2</th>\n",
       "      <td>3</td>\n",
       "      <td>Bowmore</td>\n",
       "      <td>Single Malt Scotch</td>\n",
       "      <td>97</td>\n",
       "      <td>13500.0</td>\n",
       "      <td>There have been some legendary Bowmores from t...</td>\n",
       "      <td>42.9</td>\n",
       "      <td>46.0</td>\n",
       "    </tr>\n",
       "    <tr>\n",
       "      <th>3</th>\n",
       "      <td>4</td>\n",
       "      <td>Compass Box The General</td>\n",
       "      <td>Blended Malt Scotch Whisky</td>\n",
       "      <td>96</td>\n",
       "      <td>325.0</td>\n",
       "      <td>With a name inspired by a 1926 Buster Keaton m...</td>\n",
       "      <td>53.4</td>\n",
       "      <td>NaN</td>\n",
       "    </tr>\n",
       "    <tr>\n",
       "      <th>4</th>\n",
       "      <td>5</td>\n",
       "      <td>Chivas Regal Ultis</td>\n",
       "      <td>Blended Malt Scotch Whisky</td>\n",
       "      <td>96</td>\n",
       "      <td>160.0</td>\n",
       "      <td>Captivating, enticing, and wonderfully charmin...</td>\n",
       "      <td>40.0</td>\n",
       "      <td>NaN</td>\n",
       "    </tr>\n",
       "    <tr>\n",
       "      <th>...</th>\n",
       "      <td>...</td>\n",
       "      <td>...</td>\n",
       "      <td>...</td>\n",
       "      <td>...</td>\n",
       "      <td>...</td>\n",
       "      <td>...</td>\n",
       "      <td>...</td>\n",
       "      <td>...</td>\n",
       "    </tr>\n",
       "    <tr>\n",
       "      <th>2242</th>\n",
       "      <td>2243</td>\n",
       "      <td>Duncan Taylor Cask #3583</td>\n",
       "      <td>Grain Scotch Whisky</td>\n",
       "      <td>72</td>\n",
       "      <td>125.0</td>\n",
       "      <td>Its best attributes are vanilla, toasted cocon...</td>\n",
       "      <td>54.4</td>\n",
       "      <td>28.0</td>\n",
       "    </tr>\n",
       "    <tr>\n",
       "      <th>2243</th>\n",
       "      <td>2244</td>\n",
       "      <td>Distillery Select 'Craiglodge' 1998 vintage</td>\n",
       "      <td>Single Malt Scotch</td>\n",
       "      <td>71</td>\n",
       "      <td>60.0</td>\n",
       "      <td>Aged in a sherry cask, which adds sweet notes ...</td>\n",
       "      <td>45.0</td>\n",
       "      <td>8.0</td>\n",
       "    </tr>\n",
       "    <tr>\n",
       "      <th>2244</th>\n",
       "      <td>2245</td>\n",
       "      <td>Edradour Barolo Finish</td>\n",
       "      <td>Single Malt Scotch</td>\n",
       "      <td>70</td>\n",
       "      <td>80.0</td>\n",
       "      <td>Earthy, fleshy notes with brooding grape notes...</td>\n",
       "      <td>57.1</td>\n",
       "      <td>11.0</td>\n",
       "    </tr>\n",
       "    <tr>\n",
       "      <th>2245</th>\n",
       "      <td>2246</td>\n",
       "      <td>Highland Park Cask #7380 1981 vintage</td>\n",
       "      <td>Single Malt Scotch</td>\n",
       "      <td>70</td>\n",
       "      <td>225.0</td>\n",
       "      <td>The sherry is very dominant and cloying, which...</td>\n",
       "      <td>55.0</td>\n",
       "      <td>25.0</td>\n",
       "    </tr>\n",
       "    <tr>\n",
       "      <th>2246</th>\n",
       "      <td>2247</td>\n",
       "      <td>Distillery Select 'Inchmoan' Cask #151 1992 vi...</td>\n",
       "      <td>Single Malt Scotch</td>\n",
       "      <td>63</td>\n",
       "      <td>60.0</td>\n",
       "      <td>Fiery peat kiln smoke, tar, and ripe barley on...</td>\n",
       "      <td>45.0</td>\n",
       "      <td>13.0</td>\n",
       "    </tr>\n",
       "  </tbody>\n",
       "</table>\n",
       "<p>2247 rows × 8 columns</p>\n",
       "</div>"
      ],
      "text/plain": [
       "        ID                                               name  \\\n",
       "0        1                         Johnnie Walker Blue Label    \n",
       "1        2                        Black Bowmore 1964 vintage    \n",
       "2        3                                           Bowmore    \n",
       "3        4                           Compass Box The General    \n",
       "4        5                                Chivas Regal Ultis    \n",
       "...    ...                                                ...   \n",
       "2242  2243                          Duncan Taylor Cask #3583    \n",
       "2243  2244       Distillery Select 'Craiglodge' 1998 vintage    \n",
       "2244  2245                            Edradour Barolo Finish    \n",
       "2245  2246             Highland Park Cask #7380 1981 vintage    \n",
       "2246  2247  Distillery Select 'Inchmoan' Cask #151 1992 vi...   \n",
       "\n",
       "                        category  review.point    price  \\\n",
       "0          Blended Scotch Whisky            97    225.0   \n",
       "1             Single Malt Scotch            97   4500.0   \n",
       "2             Single Malt Scotch            97  13500.0   \n",
       "3     Blended Malt Scotch Whisky            96    325.0   \n",
       "4     Blended Malt Scotch Whisky            96    160.0   \n",
       "...                          ...           ...      ...   \n",
       "2242         Grain Scotch Whisky            72    125.0   \n",
       "2243          Single Malt Scotch            71     60.0   \n",
       "2244          Single Malt Scotch            70     80.0   \n",
       "2245          Single Malt Scotch            70    225.0   \n",
       "2246          Single Malt Scotch            63     60.0   \n",
       "\n",
       "                                            description  percentage   age  \n",
       "0     Magnificently powerful and intense. Caramels, ...        40.0   NaN  \n",
       "1     What impresses me most is how this whisky evol...        40.5  42.0  \n",
       "2     There have been some legendary Bowmores from t...        42.9  46.0  \n",
       "3     With a name inspired by a 1926 Buster Keaton m...        53.4   NaN  \n",
       "4     Captivating, enticing, and wonderfully charmin...        40.0   NaN  \n",
       "...                                                 ...         ...   ...  \n",
       "2242  Its best attributes are vanilla, toasted cocon...        54.4  28.0  \n",
       "2243  Aged in a sherry cask, which adds sweet notes ...        45.0   8.0  \n",
       "2244  Earthy, fleshy notes with brooding grape notes...        57.1  11.0  \n",
       "2245  The sherry is very dominant and cloying, which...        55.0  25.0  \n",
       "2246  Fiery peat kiln smoke, tar, and ripe barley on...        45.0  13.0  \n",
       "\n",
       "[2247 rows x 8 columns]"
      ]
     },
     "execution_count": 52,
     "metadata": {},
     "output_type": "execute_result"
    }
   ],
   "source": [
    "df"
   ]
  },
  {
   "cell_type": "code",
   "execution_count": 53,
   "id": "b68a0d7a",
   "metadata": {},
   "outputs": [
    {
     "data": {
      "text/html": [
       "<div>\n",
       "<style scoped>\n",
       "    .dataframe tbody tr th:only-of-type {\n",
       "        vertical-align: middle;\n",
       "    }\n",
       "\n",
       "    .dataframe tbody tr th {\n",
       "        vertical-align: top;\n",
       "    }\n",
       "\n",
       "    .dataframe thead th {\n",
       "        text-align: right;\n",
       "    }\n",
       "</style>\n",
       "<table border=\"1\" class=\"dataframe\">\n",
       "  <thead>\n",
       "    <tr style=\"text-align: right;\">\n",
       "      <th></th>\n",
       "      <th>name</th>\n",
       "      <th>category</th>\n",
       "      <th>review.point</th>\n",
       "      <th>price</th>\n",
       "      <th>age</th>\n",
       "      <th>percentage</th>\n",
       "    </tr>\n",
       "  </thead>\n",
       "  <tbody>\n",
       "    <tr>\n",
       "      <th>2011</th>\n",
       "      <td>Adelphi</td>\n",
       "      <td>Single Malt Scotch</td>\n",
       "      <td>82</td>\n",
       "      <td>135.0</td>\n",
       "      <td>7.0</td>\n",
       "      <td>67.4</td>\n",
       "    </tr>\n",
       "    <tr>\n",
       "      <th>1560</th>\n",
       "      <td>Wemyss Malts Fruit Bonbons 1989</td>\n",
       "      <td>Single Malt Scotch</td>\n",
       "      <td>85</td>\n",
       "      <td>137.0</td>\n",
       "      <td>NaN</td>\n",
       "      <td>66.0</td>\n",
       "    </tr>\n",
       "    <tr>\n",
       "      <th>817</th>\n",
       "      <td>Caol Ila 'Unpeated Style'</td>\n",
       "      <td>Single Malt Scotch</td>\n",
       "      <td>88</td>\n",
       "      <td>60.0</td>\n",
       "      <td>10.0</td>\n",
       "      <td>65.8</td>\n",
       "    </tr>\n",
       "    <tr>\n",
       "      <th>1720</th>\n",
       "      <td>Single Malts of Scotland 1988</td>\n",
       "      <td>Single Malt Scotch</td>\n",
       "      <td>84</td>\n",
       "      <td>150.0</td>\n",
       "      <td>NaN</td>\n",
       "      <td>64.2</td>\n",
       "    </tr>\n",
       "    <tr>\n",
       "      <th>1453</th>\n",
       "      <td>Octomore Islay Barley 2009</td>\n",
       "      <td>Single Malt Scotch</td>\n",
       "      <td>85</td>\n",
       "      <td>239.0</td>\n",
       "      <td>NaN</td>\n",
       "      <td>64.0</td>\n",
       "    </tr>\n",
       "  </tbody>\n",
       "</table>\n",
       "</div>"
      ],
      "text/plain": [
       "                                  name            category  review.point  \\\n",
       "2011                          Adelphi   Single Malt Scotch            82   \n",
       "1560  Wemyss Malts Fruit Bonbons 1989   Single Malt Scotch            85   \n",
       "817         Caol Ila 'Unpeated Style'   Single Malt Scotch            88   \n",
       "1720    Single Malts of Scotland 1988   Single Malt Scotch            84   \n",
       "1453       Octomore Islay Barley 2009   Single Malt Scotch            85   \n",
       "\n",
       "      price   age  percentage  \n",
       "2011  135.0   7.0        67.4  \n",
       "1560  137.0   NaN        66.0  \n",
       "817    60.0  10.0        65.8  \n",
       "1720  150.0   NaN        64.2  \n",
       "1453  239.0   NaN        64.0  "
      ]
     },
     "execution_count": 53,
     "metadata": {},
     "output_type": "execute_result"
    }
   ],
   "source": [
    "#Scotch with highest alchohol content\n",
    "df.sort_values(by = 'percentage' , ascending = False)[['name','category','review.point','price','age','percentage' ]].head(5)"
   ]
  },
  {
   "cell_type": "code",
   "execution_count": 54,
   "id": "a499115d",
   "metadata": {},
   "outputs": [
    {
     "data": {
      "text/html": [
       "<div>\n",
       "<style scoped>\n",
       "    .dataframe tbody tr th:only-of-type {\n",
       "        vertical-align: middle;\n",
       "    }\n",
       "\n",
       "    .dataframe tbody tr th {\n",
       "        vertical-align: top;\n",
       "    }\n",
       "\n",
       "    .dataframe thead th {\n",
       "        text-align: right;\n",
       "    }\n",
       "</style>\n",
       "<table border=\"1\" class=\"dataframe\">\n",
       "  <thead>\n",
       "    <tr style=\"text-align: right;\">\n",
       "      <th></th>\n",
       "      <th>name</th>\n",
       "      <th>category</th>\n",
       "      <th>review.point</th>\n",
       "      <th>price</th>\n",
       "      <th>age</th>\n",
       "      <th>percentage</th>\n",
       "    </tr>\n",
       "  </thead>\n",
       "  <tbody>\n",
       "    <tr>\n",
       "      <th>2227</th>\n",
       "      <td>Clansman</td>\n",
       "      <td>Blended Scotch Whisky</td>\n",
       "      <td>77</td>\n",
       "      <td>14.0</td>\n",
       "      <td>NaN</td>\n",
       "      <td>40.0</td>\n",
       "    </tr>\n",
       "    <tr>\n",
       "      <th>2073</th>\n",
       "      <td>Sir Edward’s Blended Whisky</td>\n",
       "      <td>Blended Scotch Whisky</td>\n",
       "      <td>81</td>\n",
       "      <td>14.0</td>\n",
       "      <td>NaN</td>\n",
       "      <td>40.0</td>\n",
       "    </tr>\n",
       "    <tr>\n",
       "      <th>970</th>\n",
       "      <td>Carlyle</td>\n",
       "      <td>Single Malt Scotch</td>\n",
       "      <td>88</td>\n",
       "      <td>13.0</td>\n",
       "      <td>NaN</td>\n",
       "      <td>40.0</td>\n",
       "    </tr>\n",
       "    <tr>\n",
       "      <th>2167</th>\n",
       "      <td>MacQueen’s</td>\n",
       "      <td>Blended Scotch Whisky</td>\n",
       "      <td>80</td>\n",
       "      <td>13.0</td>\n",
       "      <td>3.0</td>\n",
       "      <td>40.0</td>\n",
       "    </tr>\n",
       "    <tr>\n",
       "      <th>2074</th>\n",
       "      <td>Monarch of the Glen</td>\n",
       "      <td>Blended Scotch Whisky</td>\n",
       "      <td>81</td>\n",
       "      <td>12.0</td>\n",
       "      <td>NaN</td>\n",
       "      <td>40.0</td>\n",
       "    </tr>\n",
       "  </tbody>\n",
       "</table>\n",
       "</div>"
      ],
      "text/plain": [
       "                              name               category  review.point  \\\n",
       "2227                     Clansman   Blended Scotch Whisky            77   \n",
       "2073  Sir Edward’s Blended Whisky   Blended Scotch Whisky            81   \n",
       "970                       Carlyle      Single Malt Scotch            88   \n",
       "2167                   MacQueen’s   Blended Scotch Whisky            80   \n",
       "2074          Monarch of the Glen   Blended Scotch Whisky            81   \n",
       "\n",
       "      price  age  percentage  \n",
       "2227   14.0  NaN        40.0  \n",
       "2073   14.0  NaN        40.0  \n",
       "970    13.0  NaN        40.0  \n",
       "2167   13.0  3.0        40.0  \n",
       "2074   12.0  NaN        40.0  "
      ]
     },
     "execution_count": 54,
     "metadata": {},
     "output_type": "execute_result"
    }
   ],
   "source": [
    "#Scotch with lowest price\n",
    "df.sort_values(by = 'price' , ascending = False)[['name','category','review.point','price','age','percentage' ]].tail(5)"
   ]
  },
  {
   "cell_type": "code",
   "execution_count": 55,
   "id": "377ef2c3",
   "metadata": {},
   "outputs": [
    {
     "data": {
      "text/html": [
       "<div>\n",
       "<style scoped>\n",
       "    .dataframe tbody tr th:only-of-type {\n",
       "        vertical-align: middle;\n",
       "    }\n",
       "\n",
       "    .dataframe tbody tr th {\n",
       "        vertical-align: top;\n",
       "    }\n",
       "\n",
       "    .dataframe thead th {\n",
       "        text-align: right;\n",
       "    }\n",
       "</style>\n",
       "<table border=\"1\" class=\"dataframe\">\n",
       "  <thead>\n",
       "    <tr style=\"text-align: right;\">\n",
       "      <th></th>\n",
       "      <th>name</th>\n",
       "      <th>category</th>\n",
       "      <th>review.point</th>\n",
       "      <th>price</th>\n",
       "      <th>age</th>\n",
       "      <th>percentage</th>\n",
       "    </tr>\n",
       "  </thead>\n",
       "  <tbody>\n",
       "    <tr>\n",
       "      <th>85</th>\n",
       "      <td>Diamond Jubilee by John Walker &amp; Sons</td>\n",
       "      <td>Blended Scotch Whisky</td>\n",
       "      <td>93</td>\n",
       "      <td>157000.0</td>\n",
       "      <td>NaN</td>\n",
       "      <td>42.5</td>\n",
       "    </tr>\n",
       "    <tr>\n",
       "      <th>109</th>\n",
       "      <td>Dalmore</td>\n",
       "      <td>Single Malt Scotch</td>\n",
       "      <td>93</td>\n",
       "      <td>60000.0</td>\n",
       "      <td>50.0</td>\n",
       "      <td>40.0</td>\n",
       "    </tr>\n",
       "    <tr>\n",
       "      <th>49</th>\n",
       "      <td>Bowmore 1966</td>\n",
       "      <td>Single Malt Scotch</td>\n",
       "      <td>94</td>\n",
       "      <td>30000.0</td>\n",
       "      <td>50.0</td>\n",
       "      <td>41.5</td>\n",
       "    </tr>\n",
       "    <tr>\n",
       "      <th>409</th>\n",
       "      <td>Balvenie DCS Compendium 1st Chapter 1968</td>\n",
       "      <td>Single Malt Scotch</td>\n",
       "      <td>90</td>\n",
       "      <td>27620.0</td>\n",
       "      <td>46.0</td>\n",
       "      <td>45.9</td>\n",
       "    </tr>\n",
       "    <tr>\n",
       "      <th>20</th>\n",
       "      <td>Bowmore</td>\n",
       "      <td>Single Malt Scotch</td>\n",
       "      <td>95</td>\n",
       "      <td>26650.0</td>\n",
       "      <td>50.0</td>\n",
       "      <td>40.7</td>\n",
       "    </tr>\n",
       "  </tbody>\n",
       "</table>\n",
       "</div>"
      ],
      "text/plain": [
       "                                          name               category  \\\n",
       "85      Diamond Jubilee by John Walker & Sons   Blended Scotch Whisky   \n",
       "109                                   Dalmore      Single Malt Scotch   \n",
       "49                               Bowmore 1966      Single Malt Scotch   \n",
       "409  Balvenie DCS Compendium 1st Chapter 1968      Single Malt Scotch   \n",
       "20                                    Bowmore      Single Malt Scotch   \n",
       "\n",
       "     review.point     price   age  percentage  \n",
       "85             93  157000.0   NaN        42.5  \n",
       "109            93   60000.0  50.0        40.0  \n",
       "49             94   30000.0  50.0        41.5  \n",
       "409            90   27620.0  46.0        45.9  \n",
       "20             95   26650.0  50.0        40.7  "
      ]
     },
     "execution_count": 55,
     "metadata": {},
     "output_type": "execute_result"
    }
   ],
   "source": [
    "#Scotch with highest price\n",
    "df.sort_values(by = 'price' , ascending = False)[['name','category','review.point','price','age','percentage' ]].head(5)"
   ]
  },
  {
   "cell_type": "code",
   "execution_count": null,
   "id": "36023973",
   "metadata": {},
   "outputs": [],
   "source": []
  }
 ],
 "metadata": {
  "kernelspec": {
   "display_name": "Python 3 (ipykernel)",
   "language": "python",
   "name": "python3"
  },
  "language_info": {
   "codemirror_mode": {
    "name": "ipython",
    "version": 3
   },
   "file_extension": ".py",
   "mimetype": "text/x-python",
   "name": "python",
   "nbconvert_exporter": "python",
   "pygments_lexer": "ipython3",
   "version": "3.8.8"
  }
 },
 "nbformat": 4,
 "nbformat_minor": 5
}
